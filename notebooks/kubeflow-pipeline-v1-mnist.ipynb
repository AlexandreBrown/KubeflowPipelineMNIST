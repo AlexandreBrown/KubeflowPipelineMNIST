{
 "cells": [
  {
   "cell_type": "markdown",
   "id": "b69bf8be-e99a-4bba-8698-9a1cb6407fcc",
   "metadata": {},
   "source": [
    "# Kubeflow Pipeline MNIST Example"
   ]
  },
  {
   "cell_type": "code",
   "execution_count": 39,
   "id": "66960752-eaec-4b16-808d-b64b7872618c",
   "metadata": {},
   "outputs": [],
   "source": [
    "import kfp\n",
    "import kfp.dsl as dsl\n",
    "from kfp import compiler\n",
    "from kfp.components import create_component_from_func, OutputPath, InputPath"
   ]
  },
  {
   "cell_type": "markdown",
   "id": "4febe0ad-ddbe-45a6-87f4-0951538d0ae3",
   "metadata": {},
   "source": [
    "# Components"
   ]
  },
  {
   "cell_type": "code",
   "execution_count": 40,
   "id": "02cf62cb-eb56-4df8-8142-45231b8119e7",
   "metadata": {},
   "outputs": [],
   "source": [
    "def download_datasets(\n",
    "    train_dataset_path: OutputPath('Dataset'),\n",
    "    test_dataset_path: OutputPath('Dataset')\n",
    "):\n",
    "    import torchvision.datasets as dsets\n",
    "    import os\n",
    "\n",
    "    os.makedirs(train_dataset_path)\n",
    "    dsets.MNIST(root=train_dataset_path, train=True, download=True)\n",
    "\n",
    "    os.makedirs(test_dataset_path)\n",
    "    dsets.MNIST(root=test_dataset_path, train=False, download=True)"
   ]
  },
  {
   "cell_type": "code",
   "execution_count": 41,
   "id": "a5db6b6b-ca18-4e64-be38-84af312bf802",
   "metadata": {},
   "outputs": [],
   "source": [
    "def explore_datasets(\n",
    "    train_dataset_path: InputPath('Dataset'),\n",
    "    test_dataset_path: InputPath('Dataset'),\n",
    "    mlpipeline_ui_metadata_path: OutputPath()\n",
    "):\n",
    "    import torchvision.datasets as dsets\n",
    "    import json\n",
    "\n",
    "    train = dsets.MNIST(root=train_dataset_path, train=True, download=False)\n",
    "    test = dsets.MNIST(root=test_dataset_path, train=False, download=False)\n",
    "\n",
    "    metadata = {\n",
    "    'outputs' : [{\n",
    "      'type': 'table',\n",
    "      'storage': 'inline',\n",
    "      'format': 'csv',\n",
    "      'header': [\"Training samples\", \"Test samples\"],\n",
    "      'source': f\"{len(train)}, {len(test)}\"\n",
    "    }]\n",
    "    }\n",
    "\n",
    "    with open(mlpipeline_ui_metadata_path, 'w') as metadata_file:\n",
    "        json.dump(metadata, metadata_file)"
   ]
  },
  {
   "cell_type": "code",
   "execution_count": 42,
   "id": "66b5be5b-71b2-4cda-bddb-933803b49331",
   "metadata": {},
   "outputs": [],
   "source": [
    "def train_resnet_model(\n",
    "    number_of_epochs: int,\n",
    "    train_batch_size: int,\n",
    "    learning_rate: float,\n",
    "    train_dataset_path: InputPath('Dataset'),\n",
    "    model_path: OutputPath('Model')   \n",
    "):\n",
    "    import torch \n",
    "    import torch.nn as nn\n",
    "    import torchvision.datasets as dsets\n",
    "    from tqdm import tqdm\n",
    "    from torchvision.transforms import Compose\n",
    "    from torchvision.transforms import Normalize\n",
    "    from torchvision.transforms import Resize\n",
    "    from torchvision.transforms import ToTensor\n",
    "    from kubeflow_pipeline_sample.resnet.resnet_50 import ResNet50\n",
    "    from kubeflow_pipeline_sample.training.trainer import train_model\n",
    "    \n",
    "    device = torch.device(\"cuda:0\" if torch.cuda.is_available() else \"cpu\")\n",
    "    model = ResNet50(in_channels=1, classes=10).to(device)\n",
    "    \n",
    "    criterion = nn.CrossEntropyLoss()\n",
    "    optimizer = torch.optim.SGD(model.parameters(), lr = learning_rate)\n",
    "    \n",
    "    IMAGE_SIZE = 64\n",
    "    \n",
    "    preprocessing = Compose([\n",
    "        Resize((IMAGE_SIZE, IMAGE_SIZE)), \n",
    "        ToTensor(),\n",
    "        Normalize(mean=(0.5), std=(0.5))\n",
    "    ])\n",
    "    train_dataset_clean = dsets.MNIST(root=train_dataset_path, train=True, download=False, transform=preprocessing)\n",
    "    train_loader = torch.utils.data.DataLoader(dataset=train_dataset_clean, batch_size=train_batch_size)\n",
    "        \n",
    "    losses=train_model(\n",
    "        model=model,\n",
    "        train_loader=train_loader,\n",
    "        criterion=criterion,\n",
    "        optimizer=optimizer,\n",
    "        n_epochs=number_of_epochs,\n",
    "        device=device\n",
    "    )\n",
    "    torch.save(model.state_dict(), model_path)"
   ]
  },
  {
   "cell_type": "code",
   "execution_count": 43,
   "id": "ae24041a-2e08-4e50-b225-1e01b03f0051",
   "metadata": {},
   "outputs": [],
   "source": [
    "def evaluate_resnet_model(\n",
    "    test_batch_size: int,\n",
    "    test_dataset_path: InputPath('Dataset'),\n",
    "    model_path: InputPath('Model'),\n",
    "    mlpipeline_metrics_path: OutputPath('Metrics')\n",
    "):\n",
    "    import torch\n",
    "    import torch.nn as nn\n",
    "    import torchvision.datasets as dsets\n",
    "    import json\n",
    "    from kubeflow_pipeline_sample.resnet.resnet_50 import ResNet50\n",
    "    from kubeflow_pipeline_sample.evaluation.evaluate_accuracy import evaluate_accuracy\n",
    "    from tqdm import tqdm\n",
    "    from torchvision.transforms import Compose\n",
    "    from torchvision.transforms import Normalize\n",
    "    from torchvision.transforms import Resize\n",
    "    from torchvision.transforms import ToTensor\n",
    "\n",
    "    IMAGE_SIZE = 64\n",
    "\n",
    "    preprocessing = Compose([\n",
    "        Resize((IMAGE_SIZE, IMAGE_SIZE)), \n",
    "        ToTensor(),\n",
    "        Normalize(mean=(0.5), std=(0.5))\n",
    "    ])\n",
    "    test_dataset_clean = dsets.MNIST(root=test_dataset_path, train=False, download=False, transform=preprocessing)\n",
    "    test_loader = torch.utils.data.DataLoader(dataset=test_dataset_clean, batch_size=test_batch_size)\n",
    "\n",
    "    model = ResNet50(in_channels=1, classes=10)\n",
    "    model.load_state_dict(torch.load(model_path))\n",
    "    model.eval()\n",
    "    device = torch.device(\"cuda:0\" if torch.cuda.is_available() else \"cpu\")\n",
    "\n",
    "    accuracy = evaluate_accuracy(model, test_loader, test_dataset_clean, device)\n",
    "\n",
    "    metrics = {\n",
    "        'metrics': [\n",
    "            {\n",
    "              'name': 'accuracy',\n",
    "              'numberValue':  accuracy,\n",
    "              'format': \"PERCENTAGE\",\n",
    "            }\n",
    "        ]\n",
    "    }\n",
    "\n",
    "    with open(mlpipeline_metrics_path, 'w') as metrics_file:\n",
    "        json.dump(metrics, metrics_file)"
   ]
  },
  {
   "cell_type": "code",
   "execution_count": 44,
   "id": "b4a32a22-698e-4e64-8cac-f8c2983ad668",
   "metadata": {},
   "outputs": [],
   "source": [
    "check_app_directory_op = create_component_from_func(\n",
    "    check_app_directory,\n",
    "    base_image='public.ecr.aws/h3o0w0k1/kubeflow-pipeline-mnist:latest'\n",
    ")\n",
    "download_datasets_op = create_component_from_func(\n",
    "    download_datasets,\n",
    "    base_image='public.ecr.aws/h3o0w0k1/kubeflow-pipeline-mnist:latest'\n",
    ")\n",
    "explore_datasets_op = create_component_from_func(\n",
    "    explore_datasets,\n",
    "    base_image='public.ecr.aws/h3o0w0k1/kubeflow-pipeline-mnist:latest'\n",
    ")\n",
    "train_resnet_model_op = create_component_from_func(\n",
    "    train_resnet_model,\n",
    "    base_image='public.ecr.aws/h3o0w0k1/kubeflow-pipeline-mnist:latest'\n",
    ")\n",
    "evaluate_resnet_model_op = create_component_from_func(\n",
    "    evaluate_resnet_model,\n",
    "    base_image='public.ecr.aws/h3o0w0k1/kubeflow-pipeline-mnist:latest'\n",
    ")"
   ]
  },
  {
   "cell_type": "markdown",
   "id": "217a7f9b-70fe-48b2-a686-021dabc1b811",
   "metadata": {},
   "source": [
    "# Pipeline"
   ]
  },
  {
   "cell_type": "code",
   "execution_count": 45,
   "id": "949979c5-3f02-4177-a569-c81e4e57edf5",
   "metadata": {},
   "outputs": [],
   "source": [
    "def pipeline(\n",
    "    number_of_epochs: int=1,\n",
    "    train_batch_size: int=120,\n",
    "    test_batch_size: int=120,\n",
    "    learning_rate: float= 0.1\n",
    "):\n",
    "    download_datasets_task = download_datasets_op()\n",
    "    explore_datasets_task = explore_datasets_op(\n",
    "       train_dataset=download_datasets_task.outputs[\"train_dataset\"],\n",
    "       test_dataset=download_datasets_task.outputs[\"test_dataset\"]\n",
    "    )\n",
    "    train_resnet_model_task = train_resnet_model_op(\n",
    "       number_of_epochs=number_of_epochs,\n",
    "       train_batch_size=train_batch_size,\n",
    "       learning_rate=learning_rate,\n",
    "       train_dataset=download_datasets_task.outputs[\"train_dataset\"]\n",
    "    )\n",
    "    evaluate_resnet_model_task = evaluate_resnet_model_op(\n",
    "       test_batch_size=test_batch_size,\n",
    "       test_dataset=download_datasets_task.outputs[\"test_dataset\"],\n",
    "       model=train_resnet_model_task.outputs[\"model\"]\n",
    "    )"
   ]
  },
  {
   "cell_type": "markdown",
   "id": "0f66e8e6-2f4e-476a-8b2f-c86df2b43668",
   "metadata": {},
   "source": [
    "# DSL to YAML Compilation"
   ]
  },
  {
   "cell_type": "code",
   "execution_count": 46,
   "id": "13f7a397-4a5a-402d-bc02-0adb96cacea1",
   "metadata": {},
   "outputs": [],
   "source": [
    "compiler.Compiler(mode=kfp.dsl.PipelineExecutionMode.V1_LEGACY).compile(\n",
    "        pipeline_func=pipeline,\n",
    "        package_path='end_to_end_ml_pipeline.yaml',\n",
    "        type_check=True\n",
    "    )"
   ]
  },
  {
   "cell_type": "code",
   "execution_count": null,
   "id": "741d7ef3-d9b9-48f1-9bce-1f38137f58a3",
   "metadata": {},
   "outputs": [],
   "source": []
  }
 ],
 "metadata": {
  "kernelspec": {
   "display_name": "Python 3 (ipykernel)",
   "language": "python",
   "name": "python3"
  },
  "language_info": {
   "codemirror_mode": {
    "name": "ipython",
    "version": 3
   },
   "file_extension": ".py",
   "mimetype": "text/x-python",
   "name": "python",
   "nbconvert_exporter": "python",
   "pygments_lexer": "ipython3",
   "version": "3.9.0"
  }
 },
 "nbformat": 4,
 "nbformat_minor": 5
}
