{
 "cells": [
  {
   "cell_type": "markdown",
   "id": "b69bf8be-e99a-4bba-8698-9a1cb6407fcc",
   "metadata": {},
   "source": [
    "# Kubeflow Pipeline V2 MNIST Example"
   ]
  },
  {
   "cell_type": "code",
   "execution_count": 117,
   "id": "66960752-eaec-4b16-808d-b64b7872618c",
   "metadata": {},
   "outputs": [],
   "source": [
    "import kfp\n",
    "from kfp.v2.dsl import component\n",
    "from kfp.v2.dsl import pipeline\n",
    "from kfp.v2.dsl import (\n",
    "    Input,\n",
    "    Output,\n",
    "    Dataset,\n",
    "    Metrics,\n",
    "    Model\n",
    ")\n",
    "from kfp import compiler"
   ]
  },
  {
   "cell_type": "markdown",
   "id": "4febe0ad-ddbe-45a6-87f4-0951538d0ae3",
   "metadata": {},
   "source": [
    "# Components"
   ]
  },
  {
   "cell_type": "code",
   "execution_count": 118,
   "id": "2588b2a7-e441-4055-8092-00dc79eb309b",
   "metadata": {},
   "outputs": [],
   "source": [
    "BASE_IMAGE = 'public.ecr.aws/h3o0w0k1/kubeflow-pipeline-mnist:v3'"
   ]
  },
  {
   "cell_type": "code",
   "execution_count": 119,
   "id": "02cf62cb-eb56-4df8-8142-45231b8119e7",
   "metadata": {},
   "outputs": [],
   "source": [
    "@component(base_image=BASE_IMAGE)\n",
    "def download_datasets(\n",
    "    train_dataset_output: Output[Dataset],\n",
    "    test_dataset_output: Output[Dataset]\n",
    "):\n",
    "    import torchvision.datasets as dsets\n",
    "    import os\n",
    "\n",
    "    os.makedirs(train_dataset_output.path)\n",
    "    dsets.MNIST(root=train_dataset_output.path, train=True, download=True)\n",
    "\n",
    "    os.makedirs(test_dataset_output.path)\n",
    "    dsets.MNIST(root=test_dataset_output.path, train=False, download=True)"
   ]
  },
  {
   "cell_type": "code",
   "execution_count": 120,
   "id": "a5db6b6b-ca18-4e64-be38-84af312bf802",
   "metadata": {},
   "outputs": [],
   "source": [
    "@component(base_image=BASE_IMAGE)\n",
    "def explore_datasets(\n",
    "    train_dataset_input: Input[Dataset],\n",
    "    test_dataset_input: Input[Dataset],\n",
    "    metrics: Output[Metrics]\n",
    "):\n",
    "    import torchvision.datasets as dsets\n",
    "\n",
    "    train = dsets.MNIST(root=train_dataset_input.path, train=True, download=False)\n",
    "    test = dsets.MNIST(root=test_dataset_input.path, train=False, download=False)\n",
    "\n",
    "    metrics.log_metric(\"training samples\", len(train))\n",
    "    metrics.log_metric(\"test samples\", len(test))\n",
    "    metrics.log_metric(\"gsd\", 5.5)"
   ]
  },
  {
   "cell_type": "code",
   "execution_count": 121,
   "id": "66b5be5b-71b2-4cda-bddb-933803b49331",
   "metadata": {},
   "outputs": [],
   "source": [
    "@component(base_image=BASE_IMAGE)\n",
    "def train_resnet_model(\n",
    "    number_of_epochs: int,\n",
    "    train_batch_size: int,\n",
    "    learning_rate: float,\n",
    "    train_dataset_input: Input[Dataset],\n",
    "    model_output: Output[Model],\n",
    "    metrics: Output[Metrics]\n",
    "):\n",
    "    import torch\n",
    "    import torch.nn as nn\n",
    "    import torchvision.datasets as dsets\n",
    "    from torchvision.transforms import Compose\n",
    "    from torchvision.transforms import Normalize\n",
    "    from torchvision.transforms import Resize\n",
    "    from torchvision.transforms import ToTensor\n",
    "    from kubeflow_pipeline_sample.resnet.resnet_50 import ResNet50\n",
    "    from kubeflow_pipeline_sample.training.trainer import train_model\n",
    "\n",
    "    device = torch.device(\"cuda\" if torch.cuda.is_available() else \"cpu\")\n",
    "    model = ResNet50(in_channels=1, classes=10).to(device)\n",
    "\n",
    "    criterion = nn.CrossEntropyLoss()\n",
    "    optimizer = torch.optim.SGD(model.parameters(), lr=learning_rate)\n",
    "\n",
    "    IMAGE_SIZE = 64\n",
    "\n",
    "    preprocessing = Compose([\n",
    "        Resize((IMAGE_SIZE, IMAGE_SIZE)), \n",
    "        ToTensor(),\n",
    "        Normalize(mean=(0.5), std=(0.5))\n",
    "    ])\n",
    "    train_dataset_clean = dsets.MNIST(root=train_dataset_input.path, train=True, download=False, transform=preprocessing)\n",
    "    train_loader = torch.utils.data.DataLoader(dataset=train_dataset_clean, batch_size=train_batch_size)\n",
    "\n",
    "    #losses = train_model(\n",
    "    #    model=model,\n",
    "    #    train_loader=train_loader,\n",
    "    #    criterion=criterion,\n",
    "    #    optimizer=optimizer,\n",
    "    #    n_epochs=number_of_epochs,\n",
    "    #    device=device\n",
    "    #)\n",
    "    model_framework: str = f\"pytorch:{torch.__version__}\"\n",
    "    model_output.framework = model_framework\n",
    "\n",
    "    torch.save(model.state_dict(), model_output.path)"
   ]
  },
  {
   "cell_type": "code",
   "execution_count": 122,
   "id": "ae24041a-2e08-4e50-b225-1e01b03f0051",
   "metadata": {},
   "outputs": [],
   "source": [
    "@component(base_image=BASE_IMAGE)\n",
    "def evaluate_resnet_model(\n",
    "    test_batch_size: int,\n",
    "    test_dataset_input: Input[Dataset],\n",
    "    model_input: Input[Model],\n",
    "    metrics: Output[Metrics]\n",
    "):\n",
    "    import torch\n",
    "    import torchvision.datasets as dsets\n",
    "    from kubeflow_pipeline_sample.resnet.resnet_50 import ResNet50\n",
    "    from kubeflow_pipeline_sample.evaluation.evaluate_accuracy import evaluate_accuracy\n",
    "    from torchvision.transforms import Compose\n",
    "    from torchvision.transforms import Normalize\n",
    "    from torchvision.transforms import Resize\n",
    "    from torchvision.transforms import ToTensor\n",
    "\n",
    "    IMAGE_SIZE = 64\n",
    "\n",
    "    preprocessing = Compose([\n",
    "        Resize((IMAGE_SIZE, IMAGE_SIZE)),\n",
    "        ToTensor(),\n",
    "        Normalize(mean=(0.5), std=(0.5))\n",
    "    ])\n",
    "    test_dataset_clean = dsets.MNIST(root=test_dataset_input.path, train=False, download=False, transform=preprocessing)\n",
    "    test_loader = torch.utils.data.DataLoader(dataset=test_dataset_clean, batch_size=test_batch_size)\n",
    "\n",
    "    model = ResNet50(in_channels=1, classes=10)\n",
    "    model.load_state_dict(torch.load(model_input.path))\n",
    "    model.eval()\n",
    "    device = torch.device(\"cuda\" if torch.cuda.is_available() else \"cpu\")\n",
    "\n",
    "    accuracy = 0.95#evaluate_accuracy(model, test_loader, test_dataset_clean, device)\n",
    "\n",
    "    metrics.log_metric(\"accuracy\", accuracy)"
   ]
  },
  {
   "cell_type": "markdown",
   "id": "217a7f9b-70fe-48b2-a686-021dabc1b811",
   "metadata": {},
   "source": [
    "# Pipeline"
   ]
  },
  {
   "cell_type": "code",
   "execution_count": 123,
   "id": "949979c5-3f02-4177-a569-c81e4e57edf5",
   "metadata": {},
   "outputs": [],
   "source": [
    "@pipeline(name=\"end-to-end-pipeline-v2\")\n",
    "def mnist_pipeline(\n",
    "    number_of_epochs: int = 1,\n",
    "    train_batch_size: int = 120,\n",
    "    test_batch_size: int = 120,\n",
    "    learning_rate: float = 0.1\n",
    "):\n",
    "    download_datasets_task = download_datasets()\n",
    "    explore_datasets_task = explore_datasets(\n",
    "       train_dataset_input=download_datasets_task.outputs[\"train_dataset_output\"],\n",
    "       test_dataset_input=download_datasets_task.outputs[\"test_dataset_output\"]\n",
    "    )\n",
    "    train_resnet_model_task = train_resnet_model(\n",
    "       number_of_epochs=number_of_epochs,\n",
    "       train_batch_size=train_batch_size,\n",
    "       learning_rate=learning_rate,\n",
    "       train_dataset_input=download_datasets_task.outputs[\"train_dataset_output\"]\n",
    "    )\n",
    "    evaluate_resnet_model_task = evaluate_resnet_model(\n",
    "       test_batch_size=test_batch_size,\n",
    "       test_dataset_input=download_datasets_task.outputs[\"test_dataset_output\"],\n",
    "       model_input=train_resnet_model_task.outputs[\"model_output\"]\n",
    "    )"
   ]
  },
  {
   "cell_type": "markdown",
   "id": "0f66e8e6-2f4e-476a-8b2f-c86df2b43668",
   "metadata": {},
   "source": [
    "# Generate pipeline definition from code"
   ]
  },
  {
   "cell_type": "code",
   "execution_count": 124,
   "id": "f889badb-b3b1-4a03-a21b-790663552855",
   "metadata": {},
   "outputs": [],
   "source": [
    "PIPELINE_DEFINITION_FILE_NAME=\"end_to_end_ml_pipeline_v2.yaml\""
   ]
  },
  {
   "cell_type": "code",
   "execution_count": 125,
   "id": "13f7a397-4a5a-402d-bc02-0adb96cacea1",
   "metadata": {},
   "outputs": [
    {
     "name": "stderr",
     "output_type": "stream",
     "text": [
      "/opt/conda/envs/notebookenv/lib/python3.9/site-packages/kfp/compiler/compiler.py:79: UserWarning: V2_COMPATIBLE execution mode is at Beta quality. Some pipeline features may not work as expected.\n",
      "  warnings.warn('V2_COMPATIBLE execution mode is at Beta quality.'\n"
     ]
    }
   ],
   "source": [
    "compiler.Compiler(mode=kfp.dsl.PipelineExecutionMode.V2_COMPATIBLE).compile(\n",
    "        pipeline_func=mnist_pipeline,\n",
    "        package_path=PIPELINE_DEFINITION_FILE_NAME,\n",
    "        type_check=True\n",
    "    )"
   ]
  },
  {
   "cell_type": "markdown",
   "id": "650b498d-5c24-46fd-9c8f-1eb3107ed139",
   "metadata": {},
   "source": [
    "# Create Run From Notebook"
   ]
  },
  {
   "cell_type": "code",
   "execution_count": 29,
   "id": "f530a2d4-6b44-4bc3-922b-4ddcb5c49d85",
   "metadata": {},
   "outputs": [],
   "source": [
    "NAMESPACE=\"YOUR_NAMESPACE\"\n",
    "INGRESS_GATEWAY=\"http://istio-ingressgateway.istio-system.svc.cluster.local\"\n",
    "AUTH=\"YOUR_KUBEFLOW_AUTH_SERVICE_SESSION_BROWSER_COOKIE\"\n",
    "COOKIE=\"authservice_session=\"+AUTH"
   ]
  },
  {
   "cell_type": "code",
   "execution_count": 30,
   "id": "2a36229a-cbb3-49c8-b707-58d4f0d136fd",
   "metadata": {},
   "outputs": [],
   "source": [
    "EXPERIMENT_NAME = \"End-to-end ML Pipeline experiment\""
   ]
  },
  {
   "cell_type": "code",
   "execution_count": 26,
   "id": "34179544-4574-423b-b547-022c6d7b0827",
   "metadata": {},
   "outputs": [],
   "source": [
    "client = kfp.Client(host=INGRESS_GATEWAY+\"/pipeline\", cookies=COOKIE)"
   ]
  },
  {
   "cell_type": "code",
   "execution_count": 31,
   "id": "f900e8fc-a0af-4e8d-a54c-f0e9b58c5c2d",
   "metadata": {},
   "outputs": [
    {
     "data": {
      "text/html": [
       "<a href=\"http://istio-ingressgateway.istio-system.svc.cluster.local/pipeline/#/experiments/details/9e4520b0-d320-4b11-8962-e26f1b0276e9\" target=\"_blank\" >Experiment details</a>."
      ],
      "text/plain": [
       "<IPython.core.display.HTML object>"
      ]
     },
     "metadata": {},
     "output_type": "display_data"
    },
    {
     "data": {
      "text/plain": [
       "{'created_at': datetime.datetime(2021, 9, 30, 2, 9, 40, tzinfo=tzlocal()),\n",
       " 'description': None,\n",
       " 'id': '9e4520b0-d320-4b11-8962-e26f1b0276e9',\n",
       " 'name': 'End-to-end ML Pipeline experiment',\n",
       " 'resource_references': [{'key': {'id': 'mdai-test', 'type': 'NAMESPACE'},\n",
       "                          'name': None,\n",
       "                          'relationship': 'OWNER'}],\n",
       " 'storage_state': 'STORAGESTATE_AVAILABLE'}"
      ]
     },
     "execution_count": 31,
     "metadata": {},
     "output_type": "execute_result"
    }
   ],
   "source": [
    "experiment = client.create_experiment(EXPERIMENT_NAME)\n",
    "experiment"
   ]
  },
  {
   "cell_type": "code",
   "execution_count": 32,
   "id": "867d298d-ef29-44b8-b9de-df3a77edc4e5",
   "metadata": {},
   "outputs": [
    {
     "data": {
      "text/html": [
       "<a href=\"http://istio-ingressgateway.istio-system.svc.cluster.local/pipeline/#/runs/details/ea878ac2-8758-4385-81df-c3bb6d1c18c1\" target=\"_blank\" >Run details</a>."
      ],
      "text/plain": [
       "<IPython.core.display.HTML object>"
      ]
     },
     "metadata": {},
     "output_type": "display_data"
    }
   ],
   "source": [
    "run_name = f\"e2e-pipeline-run-from-notebook-{datetime.now()}\"\n",
    "run = client.run_pipeline(experiment.id, run_name, PIPELINE_DEFINITION_FILE_NAME)"
   ]
  }
 ],
 "metadata": {
  "kernelspec": {
   "display_name": "Python 3 (ipykernel)",
   "language": "python",
   "name": "python3"
  },
  "language_info": {
   "codemirror_mode": {
    "name": "ipython",
    "version": 3
   },
   "file_extension": ".py",
   "mimetype": "text/x-python",
   "name": "python",
   "nbconvert_exporter": "python",
   "pygments_lexer": "ipython3",
   "version": "3.9.7"
  }
 },
 "nbformat": 4,
 "nbformat_minor": 5
}
